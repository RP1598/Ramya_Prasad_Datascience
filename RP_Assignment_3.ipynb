{
 "cells": [
  {
   "cell_type": "markdown",
   "id": "7a2fa4f1-3e15-4674-bf99-d32d7b6fc109",
   "metadata": {},
   "source": [
    "Q1. Which keyword is used to create a function? Create a function to return a list of odd numbers in the\n",
    "range of 1 to 25."
   ]
  },
  {
   "cell_type": "markdown",
   "id": "ef4c4307-4545-40c4-be96-73e713428225",
   "metadata": {},
   "source": [
    "Ans: We use the keyword \"def\" to create a function.\n",
    "\n",
    "Syntax: \n",
    "\n",
    "def function_name():\n",
    "    return 1\n",
    "    \n",
    "def ex_fun(a):\n",
    "    return a"
   ]
  },
  {
   "cell_type": "code",
   "execution_count": 10,
   "id": "33d3ea6a-0393-45cb-ad71-729691859ac7",
   "metadata": {},
   "outputs": [],
   "source": [
    "#Create a function to return a list of odd numbers in the range of 1 to 25.\n",
    "\n",
    "def odd_num():\n",
    "    l=[]\n",
    "    for i in range(1,26):\n",
    "        if i%2 != 0:\n",
    "            l.append(i)\n",
    "    return l"
   ]
  },
  {
   "cell_type": "code",
   "execution_count": 11,
   "id": "07928deb-98a9-4f19-9681-42b7ebd197fa",
   "metadata": {},
   "outputs": [
    {
     "data": {
      "text/plain": [
       "[1, 3, 5, 7, 9, 11, 13, 15, 17, 19, 21, 23, 25]"
      ]
     },
     "execution_count": 11,
     "metadata": {},
     "output_type": "execute_result"
    }
   ],
   "source": [
    "odd_num()"
   ]
  },
  {
   "cell_type": "code",
   "execution_count": 12,
   "id": "3baabd53-39a2-4aa4-b5c7-0ac22e77354c",
   "metadata": {},
   "outputs": [],
   "source": [
    "r = range (0,26)"
   ]
  },
  {
   "cell_type": "code",
   "execution_count": 13,
   "id": "ba67b240-f18c-46b2-9b34-8871bb45c7a4",
   "metadata": {},
   "outputs": [
    {
     "data": {
      "text/plain": [
       "[1, 3, 5, 7, 9, 11, 13, 15, 17, 19, 21, 23, 25]"
      ]
     },
     "execution_count": 13,
     "metadata": {},
     "output_type": "execute_result"
    }
   ],
   "source": [
    "list(filter(lambda x : x%2 != 0 , r))"
   ]
  },
  {
   "cell_type": "markdown",
   "id": "4453d7df-0037-4071-9bf1-564f761104d2",
   "metadata": {},
   "source": [
    "Q2. Why *args and **kwargs is used in some functions? Create a function each for *args and **kwargs to\n",
    "demonstrate their use."
   ]
  },
  {
   "cell_type": "raw",
   "id": "2b1fc5e0-20f3-4688-af87-7c57e8b68d2a",
   "metadata": {},
   "source": [
    "Ans: We use *args and **kwargs in some functions in order to provide infinite arguments and keyword arguments respectively or when we are not sure about the number of arguments that will be passed. "
   ]
  },
  {
   "cell_type": "code",
   "execution_count": 20,
   "id": "7001b15e-e8a5-43f5-a647-2ecf41975f00",
   "metadata": {},
   "outputs": [],
   "source": [
    "#Example for *args:\n",
    "\n",
    "def add_val(*args):\n",
    "    sum = 0\n",
    "    for i in args:\n",
    "        sum=sum+i\n",
    "    return sum"
   ]
  },
  {
   "cell_type": "code",
   "execution_count": 21,
   "id": "4cd3b288-e67d-48a9-82d5-8fef58f3b252",
   "metadata": {},
   "outputs": [
    {
     "data": {
      "text/plain": [
       "24"
      ]
     },
     "execution_count": 21,
     "metadata": {},
     "output_type": "execute_result"
    }
   ],
   "source": [
    "add_val(15,9)"
   ]
  },
  {
   "cell_type": "code",
   "execution_count": 22,
   "id": "7b1ffb92-df76-4d29-942e-b71f649237ca",
   "metadata": {},
   "outputs": [
    {
     "data": {
      "text/plain": [
       "150"
      ]
     },
     "execution_count": 22,
     "metadata": {},
     "output_type": "execute_result"
    }
   ],
   "source": [
    "add_val(10,20,30,40,50)"
   ]
  },
  {
   "cell_type": "code",
   "execution_count": 40,
   "id": "db344e47-4c2e-43af-a6e6-12c6fe585953",
   "metadata": {},
   "outputs": [],
   "source": [
    "#Example for **kwargs:\n",
    "\n",
    "def pair_list(**kwargs):\n",
    "    return kwargs\n",
    "    "
   ]
  },
  {
   "cell_type": "code",
   "execution_count": 42,
   "id": "87be77be-2b93-47d5-86a8-adc8e92496c0",
   "metadata": {},
   "outputs": [
    {
     "data": {
      "text/plain": [
       "{'a': 6, 'b': 5, 'c': 8, 'd': 9}"
      ]
     },
     "execution_count": 42,
     "metadata": {},
     "output_type": "execute_result"
    }
   ],
   "source": [
    "pair_list(a=6,b=5,c=8,d=9)"
   ]
  },
  {
   "cell_type": "markdown",
   "id": "e71306fc-dd7a-4f38-81b4-f63742018342",
   "metadata": {},
   "source": [
    "Q3. What is an iterator in python? Name the method used to initialise the iterator object and the method\n",
    "used for iteration. Use these methods to print the first five elements of the given list [2, 4, 6, 8, 10, 12, 14, 16,\n",
    "18, 20]."
   ]
  },
  {
   "cell_type": "markdown",
   "id": "3c75ebf4-248e-42dd-804c-8beac48fca15",
   "metadata": {},
   "source": [
    "Ans: An iterator is an object used to iterate through iterable objects such as lists, tuples, dicts, and sets. \n",
    "\n",
    "iter() --> is the method used to initialise the the iterator object.\n",
    "\n",
    "next() --> is the method used for iteration."
   ]
  },
  {
   "cell_type": "code",
   "execution_count": null,
   "id": "43a70c7f-4e52-43b6-906f-46b39c21c122",
   "metadata": {},
   "outputs": [],
   "source": [
    "#Print the first five elements of the given list [2, 4, 6, 8, 10, 12, 14, 16, 18, 20]."
   ]
  },
  {
   "cell_type": "code",
   "execution_count": 2,
   "id": "2c1d765d-008e-4618-8f90-873addeb3559",
   "metadata": {},
   "outputs": [],
   "source": [
    "l1 = [2, 4, 6, 8, 10, 12, 14, 16, 18, 20]\n",
    "\n",
    "l1_iter = iter(l1)"
   ]
  },
  {
   "cell_type": "code",
   "execution_count": 3,
   "id": "5f3a8b98-8322-4d6f-afe8-7b108cb7b1bf",
   "metadata": {},
   "outputs": [
    {
     "name": "stdout",
     "output_type": "stream",
     "text": [
      "2 4 6 8 10 "
     ]
    }
   ],
   "source": [
    "for i in range(5):\n",
    "    n=next(l1_iter)\n",
    "    print(n,end=\" \")    "
   ]
  },
  {
   "cell_type": "code",
   "execution_count": 4,
   "id": "ddd3c032-2c16-403b-9dec-e3f672fe3d6e",
   "metadata": {},
   "outputs": [
    {
     "name": "stdout",
     "output_type": "stream",
     "text": [
      "12 14 16 18 20 "
     ]
    }
   ],
   "source": [
    "#Next five numbers\n",
    "for i in range(5):\n",
    "    n=next(l1_iter)\n",
    "    print(n,end=\" \")  "
   ]
  },
  {
   "cell_type": "code",
   "execution_count": 5,
   "id": "ea109198-b4c6-4ca4-a5f6-b8a96915fea7",
   "metadata": {},
   "outputs": [
    {
     "ename": "StopIteration",
     "evalue": "",
     "output_type": "error",
     "traceback": [
      "\u001b[0;31m---------------------------------------------------------------------------\u001b[0m",
      "\u001b[0;31mStopIteration\u001b[0m                             Traceback (most recent call last)",
      "Cell \u001b[0;32mIn[5], line 2\u001b[0m\n\u001b[1;32m      1\u001b[0m \u001b[38;5;28;01mfor\u001b[39;00m i \u001b[38;5;129;01min\u001b[39;00m \u001b[38;5;28mrange\u001b[39m(\u001b[38;5;241m5\u001b[39m):\n\u001b[0;32m----> 2\u001b[0m     n\u001b[38;5;241m=\u001b[39m\u001b[38;5;28;43mnext\u001b[39;49m\u001b[43m(\u001b[49m\u001b[43ml1_iter\u001b[49m\u001b[43m)\u001b[49m\n\u001b[1;32m      3\u001b[0m     \u001b[38;5;28mprint\u001b[39m(n,end\u001b[38;5;241m=\u001b[39m\u001b[38;5;124m\"\u001b[39m\u001b[38;5;124m \u001b[39m\u001b[38;5;124m\"\u001b[39m)  \n",
      "\u001b[0;31mStopIteration\u001b[0m: "
     ]
    }
   ],
   "source": [
    "#Stop Iteration\n",
    "for i in range(5):\n",
    "    n=next(l1_iter)\n",
    "    print(n,end=\" \")  "
   ]
  },
  {
   "cell_type": "markdown",
   "id": "5c930490-14fe-4b50-a8a2-57202bbbaa8c",
   "metadata": {},
   "source": [
    "Q4.What is a generator function in python? Why yield keyword is used? Give an example of a generator function."
   ]
  },
  {
   "cell_type": "markdown",
   "id": "f828e111-5333-4679-b285-0ce5e7907549",
   "metadata": {},
   "source": [
    "Ans: A Generator in Python is a function that returns an iterator using the Yield keyword. It does not give one final result instead it yields a value for each iteration.\n",
    "\n",
    "We can create a generator function by using the yield keyword. "
   ]
  },
  {
   "cell_type": "code",
   "execution_count": 6,
   "id": "1801e22e-45bc-4228-a9d9-fc6c2920644e",
   "metadata": {},
   "outputs": [],
   "source": [
    "l2=[1,2,3,4,5,6,7,8,9,\"RP\",\"AK\",\"DS\",\"PY\"]"
   ]
  },
  {
   "cell_type": "code",
   "execution_count": 10,
   "id": "ca120cbe-e22e-4bf5-92c1-0d7c850f03e0",
   "metadata": {},
   "outputs": [],
   "source": [
    "def test1(a):\n",
    "    for i in l2:\n",
    "        if type(i)==str:\n",
    "            yield i"
   ]
  },
  {
   "cell_type": "code",
   "execution_count": 11,
   "id": "0feaadb3-e562-45c8-9f60-290cbe69734b",
   "metadata": {},
   "outputs": [
    {
     "name": "stdout",
     "output_type": "stream",
     "text": [
      "RP\n",
      "AK\n",
      "DS\n",
      "PY\n"
     ]
    }
   ],
   "source": [
    "for i in test1(l2):\n",
    "    print(i)"
   ]
  },
  {
   "cell_type": "markdown",
   "id": "cbe1922f-93ba-417b-958b-9d915de70f33",
   "metadata": {},
   "source": [
    "Q5. Create a generator function for prime numbers less than 1000. Use the next() method to print the\n",
    "first 20 prime numbers."
   ]
  },
  {
   "cell_type": "code",
   "execution_count": 17,
   "id": "09544aa4-15b5-49e8-b79e-58e86eca06e2",
   "metadata": {},
   "outputs": [],
   "source": [
    "def prime_num():\n",
    "    for i in range (1,1001):  \n",
    "        if i > 1:  \n",
    "            for j in range (2, i):  \n",
    "                if (i % j) == 0:  \n",
    "                    break  \n",
    "            else:\n",
    "                yield i"
   ]
  },
  {
   "cell_type": "code",
   "execution_count": 64,
   "id": "9dd1e8d9-6726-4955-b8a2-c61f9c8ef1a4",
   "metadata": {},
   "outputs": [],
   "source": [
    "prime_no = prime_num()"
   ]
  },
  {
   "cell_type": "code",
   "execution_count": 65,
   "id": "f2faf125-96f1-41f5-b9ed-fc1622419909",
   "metadata": {},
   "outputs": [
    {
     "name": "stdout",
     "output_type": "stream",
     "text": [
      "2  3  5  7  11  13  17  19  23  29  31  37  41  43  47  53  59  61  67  71  "
     ]
    }
   ],
   "source": [
    "for i  in range(20):\n",
    "    print(next(prime_no),end=\"  \")"
   ]
  },
  {
   "cell_type": "code",
   "execution_count": null,
   "id": "ec1cdf68-f85d-4f27-8a2d-f0b9d06212f2",
   "metadata": {},
   "outputs": [],
   "source": []
  }
 ],
 "metadata": {
  "kernelspec": {
   "display_name": "Python 3 (ipykernel)",
   "language": "python",
   "name": "python3"
  },
  "language_info": {
   "codemirror_mode": {
    "name": "ipython",
    "version": 3
   },
   "file_extension": ".py",
   "mimetype": "text/x-python",
   "name": "python",
   "nbconvert_exporter": "python",
   "pygments_lexer": "ipython3",
   "version": "3.10.8"
  }
 },
 "nbformat": 4,
 "nbformat_minor": 5
}
