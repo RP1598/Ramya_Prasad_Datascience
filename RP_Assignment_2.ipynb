{
 "cells": [
  {
   "cell_type": "markdown",
   "id": "5043a3f7-0d5f-4f52-a6f2-c23061789339",
   "metadata": {},
   "source": [
    "##### Q1. How do you comment code in Python? What are the different types of comments?"
   ]
  },
  {
   "cell_type": "markdown",
   "id": "d17cd708-1588-4dec-9e9c-98b77e6f69f9",
   "metadata": {},
   "source": [
    "Ans: In Python we have Single-line comment and Multi-line comment. We can use # to comment a single line of code. In case of Multi line comments we can either use three single quotes or double quotes at the beginning and ending of the statements.  "
   ]
  },
  {
   "cell_type": "code",
   "execution_count": 3,
   "id": "27850c56-29f8-4791-8301-6f5c18c79e92",
   "metadata": {},
   "outputs": [],
   "source": [
    "#Hi Everyone. My name is Ramya Prasad. ----> Single-line comment"
   ]
  },
  {
   "cell_type": "code",
   "execution_count": 5,
   "id": "e68ffa25-6b71-470c-b577-69a51eb07593",
   "metadata": {},
   "outputs": [
    {
     "data": {
      "text/plain": [
       "\"Hi Everyone!\\nMy name is Ramya Prasad. \\nI'm currently living in Bengaluru.\""
      ]
     },
     "execution_count": 5,
     "metadata": {},
     "output_type": "execute_result"
    }
   ],
   "source": [
    "'''Hi Everyone!\n",
    "My name is Ramya Prasad. \n",
    "I'm currently living in Bengaluru.'''   #Multi-line comment"
   ]
  },
  {
   "cell_type": "code",
   "execution_count": 6,
   "id": "a111787e-92e9-4b55-9676-43ee8bc038a4",
   "metadata": {},
   "outputs": [
    {
     "data": {
      "text/plain": [
       "\"Hi Everyone!\\nMy name is Ramya Prasad. \\nI'm currently living in Bengaluru.\""
      ]
     },
     "execution_count": 6,
     "metadata": {},
     "output_type": "execute_result"
    }
   ],
   "source": [
    "\"\"\"Hi Everyone!\n",
    "My name is Ramya Prasad. \n",
    "I'm currently living in Bengaluru.\"\"\"  #Multi-line comment"
   ]
  },
  {
   "cell_type": "markdown",
   "id": "31349b34-df00-4554-bd49-e20f35180ef5",
   "metadata": {},
   "source": [
    "##### Q2. What are variables in Python? How do you declare and assign values to variables?"
   ]
  },
  {
   "cell_type": "markdown",
   "id": "9107ad27-988a-45e7-8838-0c2f432184ca",
   "metadata": {},
   "source": [
    "Ans: A variable is a memory location or contatiner to store a value/data. We can use Assign operator \"=\" to create a variable. \n",
    "\n",
    "Variables cannot contain special characters such as @,#,$,%,&,etc.\n",
    "Variable can only use Underscore as special character.\n",
    "Variables cannot begin with numbers.\n",
    "Variables can be alpha numerical except at the starting of variable. \n",
    "Variable name should not be a Python keyword."
   ]
  },
  {
   "cell_type": "code",
   "execution_count": 28,
   "id": "eab5da00-77aa-4009-829f-285562f765fa",
   "metadata": {},
   "outputs": [],
   "source": [
    "_R = 15 "
   ]
  },
  {
   "cell_type": "code",
   "execution_count": 14,
   "id": "1ba722da-1dcc-44d1-8339-e719ed870a54",
   "metadata": {},
   "outputs": [
    {
     "ename": "SyntaxError",
     "evalue": "invalid syntax. Maybe you meant '==' or ':=' instead of '='? (3727429142.py, line 1)",
     "output_type": "error",
     "traceback": [
      "\u001b[0;36m  Cell \u001b[0;32mIn[14], line 1\u001b[0;36m\u001b[0m\n\u001b[0;31m    @R = 20\u001b[0m\n\u001b[0m     ^\u001b[0m\n\u001b[0;31mSyntaxError\u001b[0m\u001b[0;31m:\u001b[0m invalid syntax. Maybe you meant '==' or ':=' instead of '='?\n"
     ]
    }
   ],
   "source": [
    "@R = 20"
   ]
  },
  {
   "cell_type": "code",
   "execution_count": 15,
   "id": "0c86a4cd-52fb-4a06-886b-4914d83a2b49",
   "metadata": {},
   "outputs": [
    {
     "ename": "SyntaxError",
     "evalue": "invalid decimal literal (2238907050.py, line 1)",
     "output_type": "error",
     "traceback": [
      "\u001b[0;36m  Cell \u001b[0;32mIn[15], line 1\u001b[0;36m\u001b[0m\n\u001b[0;31m    15R = 1998\u001b[0m\n\u001b[0m     ^\u001b[0m\n\u001b[0;31mSyntaxError\u001b[0m\u001b[0;31m:\u001b[0m invalid decimal literal\n"
     ]
    }
   ],
   "source": [
    "15R = 1998"
   ]
  },
  {
   "cell_type": "code",
   "execution_count": 16,
   "id": "7e445f87-4f57-42f0-9d5f-8c7dfdcc185d",
   "metadata": {},
   "outputs": [],
   "source": [
    "R_P = 1503"
   ]
  },
  {
   "cell_type": "code",
   "execution_count": 39,
   "id": "bf7aba99-1604-4435-81f2-cc52266ffac0",
   "metadata": {},
   "outputs": [],
   "source": [
    "RP_1_AK = 23"
   ]
  },
  {
   "cell_type": "code",
   "execution_count": 40,
   "id": "7e47be0b-b23b-44b1-9691-edbdc61ba64c",
   "metadata": {},
   "outputs": [],
   "source": [
    "RP09 = \"AKJ\""
   ]
  },
  {
   "cell_type": "markdown",
   "id": "986aad70-692b-4d35-8543-d254893e28ab",
   "metadata": {},
   "source": [
    "##### Q3. How do you convert one data type to another in Python?"
   ]
  },
  {
   "cell_type": "code",
   "execution_count": null,
   "id": "c55f32f7-758e-43ad-8d2a-3e4ac5173820",
   "metadata": {},
   "outputs": [],
   "source": [
    "Ans: We can convert one datatype to another using Typecasting method. "
   ]
  },
  {
   "cell_type": "code",
   "execution_count": 29,
   "id": "b5267403-27e9-49ea-8bb8-13e3a85efca8",
   "metadata": {},
   "outputs": [],
   "source": [
    "a = \"Data Science\""
   ]
  },
  {
   "cell_type": "code",
   "execution_count": 36,
   "id": "833a0471-4c28-430f-9e64-ec001791e618",
   "metadata": {},
   "outputs": [
    {
     "data": {
      "text/plain": [
       "bool"
      ]
     },
     "execution_count": 36,
     "metadata": {},
     "output_type": "execute_result"
    }
   ],
   "source": [
    "type(bool(a))"
   ]
  },
  {
   "cell_type": "code",
   "execution_count": 37,
   "id": "b1998af6-86d0-448f-97ee-576dbf71191e",
   "metadata": {},
   "outputs": [],
   "source": [
    "b = 100"
   ]
  },
  {
   "cell_type": "code",
   "execution_count": 38,
   "id": "5c6b2cf3-46ae-4aa9-9ba5-17e61704f8fb",
   "metadata": {},
   "outputs": [
    {
     "data": {
      "text/plain": [
       "str"
      ]
     },
     "execution_count": 38,
     "metadata": {},
     "output_type": "execute_result"
    }
   ],
   "source": [
    "type(str(b))"
   ]
  },
  {
   "cell_type": "code",
   "execution_count": 41,
   "id": "da0dc03b-f1ef-462f-87f0-b00ad77acc6f",
   "metadata": {},
   "outputs": [],
   "source": [
    "c=True"
   ]
  },
  {
   "cell_type": "code",
   "execution_count": 42,
   "id": "14131740-99c1-4db3-96bc-80c0c121d4ad",
   "metadata": {},
   "outputs": [
    {
     "data": {
      "text/plain": [
       "bool"
      ]
     },
     "execution_count": 42,
     "metadata": {},
     "output_type": "execute_result"
    }
   ],
   "source": [
    "type(c)"
   ]
  },
  {
   "cell_type": "code",
   "execution_count": 43,
   "id": "9f95216d-4794-476a-843b-b9689f6619d0",
   "metadata": {},
   "outputs": [
    {
     "data": {
      "text/plain": [
       "str"
      ]
     },
     "execution_count": 43,
     "metadata": {},
     "output_type": "execute_result"
    }
   ],
   "source": [
    "type(str(c))"
   ]
  },
  {
   "cell_type": "markdown",
   "id": "3c3726f5-747c-48ee-883d-16f1c4325778",
   "metadata": {},
   "source": [
    "##### Q4. How do you write and execute a Python script from the command line?"
   ]
  },
  {
   "cell_type": "markdown",
   "id": "42f7aa62-76fc-4107-8b89-44551970826b",
   "metadata": {},
   "source": [
    "Ans: If we have a python file saved as Ramya.py\n",
    "Then in the console we need to type the below code to execute it. \n",
    "Command ---> python Ramya.py"
   ]
  },
  {
   "cell_type": "markdown",
   "id": "0f177c23-6fcf-47d2-b70d-f08f75f3330c",
   "metadata": {},
   "source": [
    "##### Q5. Given a list my_list = [1, 2, 3, 4, 5], write the code to slice the list and obtain the sub-list [2, 3]."
   ]
  },
  {
   "cell_type": "code",
   "execution_count": 44,
   "id": "fa743efa-e3cc-4235-90ff-54568a12774c",
   "metadata": {},
   "outputs": [],
   "source": [
    "my_list=[1,2,3,4,5]"
   ]
  },
  {
   "cell_type": "code",
   "execution_count": 45,
   "id": "f7ed166a-0e6a-4f01-abda-8e0b5023bace",
   "metadata": {},
   "outputs": [
    {
     "data": {
      "text/plain": [
       "[2, 3]"
      ]
     },
     "execution_count": 45,
     "metadata": {},
     "output_type": "execute_result"
    }
   ],
   "source": [
    "my_list[1:3]"
   ]
  },
  {
   "cell_type": "markdown",
   "id": "f2b706f5-b2d3-492d-8cea-6120f4ed5a9b",
   "metadata": {},
   "source": [
    "##### Q6. What is a complex number in mathematics, and how is it represented in Python?"
   ]
  },
  {
   "cell_type": "markdown",
   "id": "ae0fd93b-a57e-40da-8761-ade33ff8fb1d",
   "metadata": {},
   "source": [
    "Ans: Complex number consists of real and imaginary parts. It is represented in below format:\n",
    "x+yi\n",
    "a-bj\n",
    "b+ai\n",
    "s-rj\n",
    "\n",
    "Here, x and y are real numbers. \n",
    "i/j is used to represent complex number."
   ]
  },
  {
   "cell_type": "code",
   "execution_count": 50,
   "id": "ac6da18b-d63f-4207-a5fd-ab49efdef9fe",
   "metadata": {},
   "outputs": [
    {
     "name": "stdout",
     "output_type": "stream",
     "text": [
      "The data type of (5+7j) is <class 'complex'>\n",
      "The data type of (10-15j) is <class 'complex'>\n"
     ]
    }
   ],
   "source": [
    "complex_num1 = 5+7j\n",
    "complex_num2= 10-15j\n",
    "\n",
    "print(\"The data type of\",complex_num1,\"is\",type(complex_num1))\n",
    "print(\"The data type of\",complex_num2,\"is\",type(complex_num2))\n"
   ]
  },
  {
   "cell_type": "code",
   "execution_count": 53,
   "id": "4348fa30-fe23-4118-8125-173fffc24af2",
   "metadata": {},
   "outputs": [
    {
     "name": "stdout",
     "output_type": "stream",
     "text": [
      "The data type of (5+7j) is <class 'complex'>\n",
      "The data type of (10-15j) is <class 'complex'>\n"
     ]
    }
   ],
   "source": [
    "print(f\"The data type of {complex_num1} is\",type(complex_num1)) #using f method to print\n",
    "print(f\"The data type of {complex_num2} is\",type(complex_num2))"
   ]
  },
  {
   "cell_type": "markdown",
   "id": "4a0581f3-5367-4f95-89ec-279a298373e7",
   "metadata": {},
   "source": [
    "##### Q7. What is the correct way to declare a variable named age and assign the value 25 to it?"
   ]
  },
  {
   "cell_type": "code",
   "execution_count": 56,
   "id": "fdbef9a6-bf89-4eef-a3a5-3d842d20ade3",
   "metadata": {},
   "outputs": [
    {
     "data": {
      "text/plain": [
       "int"
      ]
     },
     "execution_count": 56,
     "metadata": {},
     "output_type": "execute_result"
    }
   ],
   "source": [
    "age = 25\n",
    "type(age)"
   ]
  },
  {
   "cell_type": "markdown",
   "id": "5ca01a32-678e-4049-8050-6546d943fee1",
   "metadata": {},
   "source": [
    "##### Q8. Declare a variable named price and assign the value 9.99 to it. What data type does this variable belong to?"
   ]
  },
  {
   "cell_type": "code",
   "execution_count": 57,
   "id": "3521c9a5-d67f-405d-a361-94f5f5266295",
   "metadata": {},
   "outputs": [
    {
     "data": {
      "text/plain": [
       "float"
      ]
     },
     "execution_count": 57,
     "metadata": {},
     "output_type": "execute_result"
    }
   ],
   "source": [
    "price=9.99\n",
    "type(price)"
   ]
  },
  {
   "cell_type": "markdown",
   "id": "a2c6c1b2-6d65-4796-945b-b531c52af175",
   "metadata": {},
   "source": [
    "##### Q9. Create a variable named name and assign your full name to it as a string. How would you print the value of this variable?"
   ]
  },
  {
   "cell_type": "code",
   "execution_count": 58,
   "id": "8bddef6f-596a-4296-8560-4a5ad588ef1c",
   "metadata": {},
   "outputs": [
    {
     "name": "stdout",
     "output_type": "stream",
     "text": [
      "Ramya Prasad P\n"
     ]
    }
   ],
   "source": [
    "name = \"Ramya Prasad P\"\n",
    "print(name)"
   ]
  },
  {
   "cell_type": "code",
   "execution_count": 60,
   "id": "cabcaf7d-03b8-468c-b3e2-49793fd36a7f",
   "metadata": {},
   "outputs": [
    {
     "name": "stdout",
     "output_type": "stream",
     "text": [
      "The date stored in the variable name is Ramya Prasad P\n"
     ]
    }
   ],
   "source": [
    "print(\"The date stored in the variable name is\",name)"
   ]
  },
  {
   "cell_type": "markdown",
   "id": "e8e2d2e5-af9e-4305-a56e-1eb7e33fd22a",
   "metadata": {},
   "source": [
    "##### Q10. Given the string \"Hello, World!\", extract the substring \"World\"."
   ]
  },
  {
   "cell_type": "code",
   "execution_count": 61,
   "id": "79119677-07c9-4f0f-9015-8faae5beee04",
   "metadata": {},
   "outputs": [],
   "source": [
    "string = \"Hello, World!\""
   ]
  },
  {
   "cell_type": "code",
   "execution_count": 66,
   "id": "d0d3120b-e826-4ebf-b1e9-f8336fd8b3b1",
   "metadata": {},
   "outputs": [
    {
     "data": {
      "text/plain": [
       "'World'"
      ]
     },
     "execution_count": 66,
     "metadata": {},
     "output_type": "execute_result"
    }
   ],
   "source": [
    "string[-6:-1:1]"
   ]
  },
  {
   "cell_type": "code",
   "execution_count": 69,
   "id": "be3fd249-60b7-4533-b65e-821e9e131ff3",
   "metadata": {},
   "outputs": [
    {
     "data": {
      "text/plain": [
       "'World'"
      ]
     },
     "execution_count": 69,
     "metadata": {},
     "output_type": "execute_result"
    }
   ],
   "source": [
    "string[7:12]"
   ]
  },
  {
   "cell_type": "markdown",
   "id": "7a941cf7-8b0f-48a3-9e49-93e9dc90d06f",
   "metadata": {},
   "source": [
    "##### Q11. Create a variable named \"is_student\" and assign it a boolean value indicating whether you are currently a student or not."
   ]
  },
  {
   "cell_type": "code",
   "execution_count": 72,
   "id": "f7a551c5-79bc-4f1f-a97f-58242f0ce92f",
   "metadata": {},
   "outputs": [
    {
     "data": {
      "text/plain": [
       "bool"
      ]
     },
     "execution_count": 72,
     "metadata": {},
     "output_type": "execute_result"
    }
   ],
   "source": [
    "is_student = True\n",
    "type(is_student)"
   ]
  },
  {
   "cell_type": "code",
   "execution_count": null,
   "id": "7f7e045a-1a4b-4db2-9fd2-a612d7276aa8",
   "metadata": {},
   "outputs": [],
   "source": []
  }
 ],
 "metadata": {
  "kernelspec": {
   "display_name": "Python 3 (ipykernel)",
   "language": "python",
   "name": "python3"
  },
  "language_info": {
   "codemirror_mode": {
    "name": "ipython",
    "version": 3
   },
   "file_extension": ".py",
   "mimetype": "text/x-python",
   "name": "python",
   "nbconvert_exporter": "python",
   "pygments_lexer": "ipython3",
   "version": "3.10.8"
  }
 },
 "nbformat": 4,
 "nbformat_minor": 5
}
