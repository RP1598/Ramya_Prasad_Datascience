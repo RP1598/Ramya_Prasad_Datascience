{
 "cells": [
  {
   "cell_type": "markdown",
   "id": "a201d060-d6fa-46dc-b83f-c387573952d9",
   "metadata": {},
   "source": [
    "##### Q1. Explain Class and Object with respect to Object-Oriented Programming. Give a suitable example."
   ]
  },
  {
   "cell_type": "markdown",
   "id": "02fb34db-77c7-4fce-9667-35c52f6cc2e3",
   "metadata": {},
   "source": [
    "Ans: \n",
    "\n",
    "1] Class: Class is a collection of objects/variables/instances. It's a blueprint from which objects,functions,methods,attributes,etc are created. It's a classification of Real world Entity. \n",
    "\n",
    "Syntax:\n",
    "class Class_name:\n",
    "    #Statement\n",
    "\n",
    "2] Object: Object is an instance of Class. \n",
    "\n",
    "Syntax:\n",
    "Object_name = Class_name()"
   ]
  },
  {
   "cell_type": "code",
   "execution_count": 9,
   "id": "23d732cc-e366-481d-8836-47723c998a9a",
   "metadata": {},
   "outputs": [],
   "source": [
    "#Example 1: \n",
    "\n",
    "class Datascience: #Datascience is the Class name\n",
    "    \n",
    "    def welcome_msg(self): #welcome_msg is the Class Function/Method\n",
    "        print(\"Welcome to PW Skills\")"
   ]
  },
  {
   "cell_type": "code",
   "execution_count": 10,
   "id": "67e628de-173f-4a1a-bda3-9a18cadd5909",
   "metadata": {},
   "outputs": [],
   "source": [
    "DS_obj = Datascience() #Creating Object for Class"
   ]
  },
  {
   "cell_type": "code",
   "execution_count": 11,
   "id": "bef03f65-6825-4d59-858d-3ad7b969d2a0",
   "metadata": {},
   "outputs": [
    {
     "name": "stdout",
     "output_type": "stream",
     "text": [
      "Welcome to PW Skills\n"
     ]
    }
   ],
   "source": [
    "DS_obj.welcome_msg() #Calling the function using object "
   ]
  },
  {
   "cell_type": "code",
   "execution_count": 14,
   "id": "63fa6b92-3f51-4366-82a2-3031ca40e4bb",
   "metadata": {},
   "outputs": [],
   "source": [
    "#Example 2:\n",
    "\n",
    "class PWSkills:\n",
    "    \n",
    "    def __init__(self,Name,Phone_number,Email_id,Rollno): #Constructor Method\n",
    "        self.Name = Name\n",
    "        self.Phone_number = Phone_number\n",
    "        self.Email_id = Email_id\n",
    "        self.Rollno = Rollno\n",
    "        \n",
    "    def Student_details(self):\n",
    "        return self.Name,self.Phone_number,self.Email_id,self.Rollno"
   ]
  },
  {
   "cell_type": "code",
   "execution_count": 16,
   "id": "b7712709-9996-4345-8d0d-169c74ceabf8",
   "metadata": {},
   "outputs": [],
   "source": [
    "PW_obj = PWSkills(\"Ramya\",9555999000,\"rp@gmail.com\",15)"
   ]
  },
  {
   "cell_type": "code",
   "execution_count": 22,
   "id": "6f68566f-41b5-4e14-93ab-22816ce9ea67",
   "metadata": {},
   "outputs": [
    {
     "data": {
      "text/plain": [
       "('Ramya', 9555999000, 'rp@gmail.com', 15)"
      ]
     },
     "execution_count": 22,
     "metadata": {},
     "output_type": "execute_result"
    }
   ],
   "source": [
    "PW_obj.Student_details() #Accessing Class Method using Class object(PW_obj)"
   ]
  },
  {
   "cell_type": "code",
   "execution_count": 26,
   "id": "d3cd9245-d119-422f-88d1-ae6836368281",
   "metadata": {},
   "outputs": [
    {
     "data": {
      "text/plain": [
       "'rp@gmail.com'"
      ]
     },
     "execution_count": 26,
     "metadata": {},
     "output_type": "execute_result"
    }
   ],
   "source": [
    "PW_obj.Email_id #Accessing Class variable using Class object(PW_obj)"
   ]
  },
  {
   "cell_type": "code",
   "execution_count": 27,
   "id": "ef49843b-06bc-4196-b040-699fd909e7c8",
   "metadata": {},
   "outputs": [
    {
     "data": {
      "text/plain": [
       "15"
      ]
     },
     "execution_count": 27,
     "metadata": {},
     "output_type": "execute_result"
    }
   ],
   "source": [
    "PW_obj.Rollno #Accessing Class variable using Class object(PW_obj)"
   ]
  },
  {
   "cell_type": "markdown",
   "id": "3c0e3789-c321-4b9e-bcc8-2f0fa46b436a",
   "metadata": {},
   "source": [
    "#####  Q2. Name the four pillars of OOPs."
   ]
  },
  {
   "cell_type": "markdown",
   "id": "8d3ab362-9e1d-49df-9954-5775c8baedf4",
   "metadata": {},
   "source": [
    "Ans: The four pillars of OOPs are listed as below:\n",
    "    \n",
    "1] Polymorphism - Polymorphism means having many forms\n",
    "2] Encapsulation - Idea of wrapping data and methods within one unit\n",
    "3] Abstraction - Hides complex implementation details and shows only crucial data and functions\n",
    "4] Inheritance - Inherits all the methods and properties from another class."
   ]
  },
  {
   "cell_type": "markdown",
   "id": "6e112b1c-3394-42c4-8d05-0e044dcf3d18",
   "metadata": {},
   "source": [
    "##### Q3. Explain why the __init__() function is used. Give a suitable example."
   ]
  },
  {
   "cell_type": "markdown",
   "id": "bcee05dd-476a-4371-b413-b778495ffb79",
   "metadata": {},
   "source": [
    "Ans: __init__() is used to initialize objects of a class or give input to the class. It is also called as constructor method."
   ]
  },
  {
   "cell_type": "code",
   "execution_count": 33,
   "id": "9873a6e0-4536-4ca9-ba3d-af18329be63f",
   "metadata": {},
   "outputs": [],
   "source": [
    "#Example:\n",
    "\n",
    "class Person:\n",
    "    \n",
    "    def __init__(self, name): # init method or constructor\n",
    "        self.name = name\n",
    "    \n",
    "    def Greeting(self):\n",
    "        print('Hey!! My name is', self.name)"
   ]
  },
  {
   "cell_type": "code",
   "execution_count": 34,
   "id": "416d3705-918d-4c3c-9504-7986983967d5",
   "metadata": {},
   "outputs": [
    {
     "name": "stdout",
     "output_type": "stream",
     "text": [
      "Hey!! My name is Ramya Prasad\n"
     ]
    }
   ],
   "source": [
    "P_obj = Person('Ramya Prasad')\n",
    "P_obj.Greeting()"
   ]
  },
  {
   "cell_type": "markdown",
   "id": "7245f560-1502-492f-87e0-e1633a43a514",
   "metadata": {},
   "source": [
    "##### Q4. Why self is used in OOPs?"
   ]
  },
  {
   "cell_type": "markdown",
   "id": "23e88b15-fbbe-48fd-910c-6d4f17a247ed",
   "metadata": {},
   "source": [
    "Ans: Self is used as reference to the instance of a class. It is like a Pointer. It binds the instance method to the Class. Self is not a keyword we can use any other name we want as a reference to the Class. It helps to access the instance attributes. "
   ]
  },
  {
   "cell_type": "code",
   "execution_count": 52,
   "id": "18c6cd83-070a-46f9-8c1f-0c5c8fb94171",
   "metadata": {},
   "outputs": [],
   "source": [
    "#Example: \n",
    "\n",
    "class Myinfo:\n",
    "    \n",
    "    def __init__(self,Name1,Age1): #Constructor Method __init__ & Pointer(self)\n",
    "        self.Name = Name1\n",
    "        self.Age = Age1\n",
    "        \n",
    "    def My_details(self):\n",
    "        return self.Name,self.Age"
   ]
  },
  {
   "cell_type": "code",
   "execution_count": 53,
   "id": "7fa9420b-1368-4978-a62a-274d68ce2c9f",
   "metadata": {},
   "outputs": [],
   "source": [
    "My_obj = Myinfo(\"Akshara\",26)"
   ]
  },
  {
   "cell_type": "code",
   "execution_count": 54,
   "id": "c005b51d-54f2-489a-8138-de1afc89175f",
   "metadata": {},
   "outputs": [
    {
     "data": {
      "text/plain": [
       "('Akshara', 26)"
      ]
     },
     "execution_count": 54,
     "metadata": {},
     "output_type": "execute_result"
    }
   ],
   "source": [
    "My_obj.My_details()"
   ]
  },
  {
   "cell_type": "code",
   "execution_count": 55,
   "id": "67b01783-be95-4848-a3bf-767344fdc2d7",
   "metadata": {},
   "outputs": [
    {
     "data": {
      "text/plain": [
       "'Akshara'"
      ]
     },
     "execution_count": 55,
     "metadata": {},
     "output_type": "execute_result"
    }
   ],
   "source": [
    "My_obj.Name"
   ]
  },
  {
   "cell_type": "markdown",
   "id": "42dede92-6903-46b1-95dd-47a0e7cfab69",
   "metadata": {},
   "source": [
    "##### Q5. What is inheritance? Give an example for each type of inheritance."
   ]
  },
  {
   "cell_type": "markdown",
   "id": "fe897ac2-a7aa-4344-be59-9062a21487c0",
   "metadata": {},
   "source": [
    "Ans: Inheritance is the capability of one class to derive or inherit the properties from another class. \n",
    "\n",
    "Inheritance allows you to inherit the properties of a class, i.e., base class to another, i.e., derived class. \n",
    "\n",
    "Parent class is the class being inherited from called as base class.\n",
    "\n",
    "Child class is the class that inherits from another class called as derived class."
   ]
  },
  {
   "cell_type": "markdown",
   "id": "5027a998-abfd-4318-a06e-48a0a2fba483",
   "metadata": {},
   "source": [
    "\n",
    "There are 5 different types of inheritance in Python. They are as follows:\n",
    "\n",
    "Single inheritance: When a child class inherits from only one parent class, it is called Single inheritance. Father - daughter kind of relationship.\n",
    "\n",
    "Multiple inheritances: When a child class inherits from multiple parent classes, it is called Multiple inheritances. \n",
    "\n",
    "Multilevel inheritance: When a child class will inherit from its parent class, which in turn is inheriting from its parent class, it is called Multilevel inheritance. Grandchild and Grandparent relationship.\n",
    "\n",
    "Hierarchical inheritance: When a single base class is inherited by multiple derived classes or more than one derived class can be created from a single base, it is called Hierachical inheritance. \n",
    "\n",
    "Hybrid inheritance: When different types of inheritance is used in one class then we call it Hybrid inheritance. Basically, it is a blend of more than one type of inheritance.\n"
   ]
  },
  {
   "cell_type": "code",
   "execution_count": 21,
   "id": "dfd3dfeb-93cc-4e4a-9fcf-7f73fd265539",
   "metadata": {},
   "outputs": [],
   "source": [
    "#Example of Single Inheritance:\n",
    "class Parent:\n",
    "    def test1(self):\n",
    "        return \"This is my parent class\"\n",
    "\n",
    "class Child_class(Parent):\n",
    "    def test2(self):\n",
    "        return \"This is the child class\""
   ]
  },
  {
   "cell_type": "code",
   "execution_count": 22,
   "id": "e679448e-ea85-4743-b362-01ea18ebd4e8",
   "metadata": {},
   "outputs": [],
   "source": [
    "Single_obj = Child_class()"
   ]
  },
  {
   "cell_type": "code",
   "execution_count": 23,
   "id": "03d8c46e-4eb1-4213-a147-57d5bc93eff3",
   "metadata": {},
   "outputs": [
    {
     "data": {
      "text/plain": [
       "'This is my parent class'"
      ]
     },
     "execution_count": 23,
     "metadata": {},
     "output_type": "execute_result"
    }
   ],
   "source": [
    "Single_obj.test1()"
   ]
  },
  {
   "cell_type": "code",
   "execution_count": 24,
   "id": "67eddd87-8a9a-44de-8eb1-b4e34e7a177f",
   "metadata": {},
   "outputs": [
    {
     "data": {
      "text/plain": [
       "'This is the child class'"
      ]
     },
     "execution_count": 24,
     "metadata": {},
     "output_type": "execute_result"
    }
   ],
   "source": [
    "Single_obj.test2()"
   ]
  },
  {
   "cell_type": "code",
   "execution_count": 25,
   "id": "2c207276-d2a3-4163-a203-f97c6e467bf1",
   "metadata": {},
   "outputs": [],
   "source": [
    "#Example of Multiple Inheritance:\n",
    "\n",
    "class Parent1:\n",
    "    def test1(self):\n",
    "        return \"This is the first parent\"\n",
    "\n",
    "class Parent2:\n",
    "    def test2(self):\n",
    "        return \"This is the second parent\"\n",
    "\n",
    "class Child(Parent1,Parent2):\n",
    "    def test_child(self):\n",
    "        return \"This is the child class of Parent1 and Parent2\"\n"
   ]
  },
  {
   "cell_type": "code",
   "execution_count": 26,
   "id": "508bf598-8c6b-4386-ba58-a06e109833ae",
   "metadata": {},
   "outputs": [],
   "source": [
    "Multiple_obj=Child()"
   ]
  },
  {
   "cell_type": "code",
   "execution_count": 27,
   "id": "3abea926-3091-4bf3-94e4-4d37721a60cf",
   "metadata": {},
   "outputs": [
    {
     "data": {
      "text/plain": [
       "'This is the first parent'"
      ]
     },
     "execution_count": 27,
     "metadata": {},
     "output_type": "execute_result"
    }
   ],
   "source": [
    "Multiple_obj.test1()"
   ]
  },
  {
   "cell_type": "code",
   "execution_count": 28,
   "id": "fdb23aca-d170-4b1b-bbad-79becedb716c",
   "metadata": {},
   "outputs": [
    {
     "data": {
      "text/plain": [
       "'This is the second parent'"
      ]
     },
     "execution_count": 28,
     "metadata": {},
     "output_type": "execute_result"
    }
   ],
   "source": [
    "Multiple_obj.test2()"
   ]
  },
  {
   "cell_type": "code",
   "execution_count": 29,
   "id": "e81dfd45-1fad-4546-b6e4-a6f5317c6745",
   "metadata": {},
   "outputs": [
    {
     "data": {
      "text/plain": [
       "'This is the child class of Parent1 and Parent2'"
      ]
     },
     "execution_count": 29,
     "metadata": {},
     "output_type": "execute_result"
    }
   ],
   "source": [
    "Multiple_obj.test_child()"
   ]
  },
  {
   "cell_type": "code",
   "execution_count": 40,
   "id": "613aa43b-11b1-4595-81b1-823843f7dc7a",
   "metadata": {},
   "outputs": [],
   "source": [
    "#Example of Multilevel Inheritance:\n",
    "\n",
    "class Base1:\n",
    "    def testa(self):\n",
    "        return \"This is Parent or Base Class\"\n",
    "\n",
    "class Derived1(Base1):\n",
    "    def testb(self):\n",
    "        return \"This is the first child class derived from Base class\"\n",
    "    \n",
    "class Derived2(Derived1):\n",
    "    def testc(self):\n",
    "        return \"This is the second child class derived from Base class\""
   ]
  },
  {
   "cell_type": "code",
   "execution_count": 41,
   "id": "6b538a00-b4d1-45ea-ac53-808811309a87",
   "metadata": {},
   "outputs": [],
   "source": [
    "class_obj = Derived2()"
   ]
  },
  {
   "cell_type": "code",
   "execution_count": 42,
   "id": "7d7ba945-5197-4eb4-a09f-304badb1efda",
   "metadata": {},
   "outputs": [
    {
     "data": {
      "text/plain": [
       "'This is Parent or Base Class'"
      ]
     },
     "execution_count": 42,
     "metadata": {},
     "output_type": "execute_result"
    }
   ],
   "source": [
    "class_obj.testa()"
   ]
  },
  {
   "cell_type": "code",
   "execution_count": 43,
   "id": "55a31e91-0dc7-45e5-b1d2-d5b72d084351",
   "metadata": {},
   "outputs": [
    {
     "data": {
      "text/plain": [
       "'This is the first child class derived from Base class'"
      ]
     },
     "execution_count": 43,
     "metadata": {},
     "output_type": "execute_result"
    }
   ],
   "source": [
    "class_obj.testb()"
   ]
  },
  {
   "cell_type": "code",
   "execution_count": 44,
   "id": "6104d17a-bc79-4f63-8ae2-fa781fcc3020",
   "metadata": {},
   "outputs": [
    {
     "data": {
      "text/plain": [
       "'This is the second child class derived from Base class'"
      ]
     },
     "execution_count": 44,
     "metadata": {},
     "output_type": "execute_result"
    }
   ],
   "source": [
    "class_obj.testc()"
   ]
  },
  {
   "cell_type": "code",
   "execution_count": 45,
   "id": "560e8338-5e41-4af6-a684-b775fa95e708",
   "metadata": {},
   "outputs": [],
   "source": [
    "#Example of Hierachial Inheritance:\n",
    "\n",
    "class Base_class:\n",
    "    def test_A(self):\n",
    "        return \"This is the Base class\"\n",
    "\n",
    "class Derived_1(Base_class):\n",
    "    def test_D_A(self):\n",
    "        return \"This is the first derived class\"\n",
    "\n",
    "class Derived_2(Base_class):\n",
    "    def test_D_B(self):\n",
    "        return \"This is the second derived class\"\n"
   ]
  },
  {
   "cell_type": "code",
   "execution_count": 46,
   "id": "1ad38567-0cdd-4c09-9301-c3e7968ed37a",
   "metadata": {},
   "outputs": [],
   "source": [
    "Hier_obj_1 = Derived_1()"
   ]
  },
  {
   "cell_type": "code",
   "execution_count": 47,
   "id": "0b72e922-d487-4f52-8e89-2104d628d760",
   "metadata": {},
   "outputs": [
    {
     "data": {
      "text/plain": [
       "'This is the Base class'"
      ]
     },
     "execution_count": 47,
     "metadata": {},
     "output_type": "execute_result"
    }
   ],
   "source": [
    "Hier_obj_1.test_A()"
   ]
  },
  {
   "cell_type": "code",
   "execution_count": 48,
   "id": "716a7bbe-e2dd-4b97-b231-927ac3d7ca4e",
   "metadata": {},
   "outputs": [
    {
     "data": {
      "text/plain": [
       "'This is the first derived class'"
      ]
     },
     "execution_count": 48,
     "metadata": {},
     "output_type": "execute_result"
    }
   ],
   "source": [
    "Hier_obj_1.test_D_A()"
   ]
  },
  {
   "cell_type": "code",
   "execution_count": 49,
   "id": "9dd35565-b6b4-4484-94e3-01ace2431d3b",
   "metadata": {},
   "outputs": [],
   "source": [
    "Hier_obj_2 = Derived_2()"
   ]
  },
  {
   "cell_type": "code",
   "execution_count": 50,
   "id": "406dec10-54f5-4c10-b6be-94bbfabf11e9",
   "metadata": {},
   "outputs": [
    {
     "data": {
      "text/plain": [
       "'This is the Base class'"
      ]
     },
     "execution_count": 50,
     "metadata": {},
     "output_type": "execute_result"
    }
   ],
   "source": [
    "Hier_obj_2.test_A()"
   ]
  },
  {
   "cell_type": "code",
   "execution_count": 51,
   "id": "1a649748-b3ba-4432-818e-9ffd6fea5873",
   "metadata": {},
   "outputs": [
    {
     "data": {
      "text/plain": [
       "'This is the second derived class'"
      ]
     },
     "execution_count": 51,
     "metadata": {},
     "output_type": "execute_result"
    }
   ],
   "source": [
    "Hier_obj_2.test_D_B()"
   ]
  },
  {
   "cell_type": "code",
   "execution_count": 63,
   "id": "025c7178-b1c7-43f8-bb82-a68c9a5be9b0",
   "metadata": {},
   "outputs": [],
   "source": [
    "#Example of Hybrid Inheritance:\n",
    "\n",
    "class Base1:\n",
    "    def test_1(self):\n",
    "        return \"This is Base 1\"\n",
    "\n",
    "class Base2:\n",
    "    def test_2(self):\n",
    "        return \"This is Base 2\"\n",
    "\n",
    "class Derived_1(Base1,Base2): #Multiple Inheritance\n",
    "    def test_D_1(self):\n",
    "        return \"Derived_1 is inherited from Base1 and Base2\"\\\n",
    "\n",
    "class Base3:\n",
    "    def test_3(self):\n",
    "        return \"This is Base 3\"\n",
    "\n",
    "class Derived_2(Base3): #Single Inheritance\n",
    "    def test_D_2(self):\n",
    "        return \"Derived_2 is inherited from Base3\"\n"
   ]
  },
  {
   "cell_type": "code",
   "execution_count": 64,
   "id": "6b26846f-247c-4a59-8a16-bed413159aa6",
   "metadata": {},
   "outputs": [],
   "source": [
    "Hybrid_A = Derived_1()"
   ]
  },
  {
   "cell_type": "code",
   "execution_count": 65,
   "id": "5c89011c-1610-4a56-ab36-6d5704cd409b",
   "metadata": {},
   "outputs": [
    {
     "data": {
      "text/plain": [
       "'This is Base 1'"
      ]
     },
     "execution_count": 65,
     "metadata": {},
     "output_type": "execute_result"
    }
   ],
   "source": [
    "Hybrid_A.test_1()"
   ]
  },
  {
   "cell_type": "code",
   "execution_count": 66,
   "id": "0007baaf-17e8-4aec-9936-b5228192ac78",
   "metadata": {},
   "outputs": [
    {
     "data": {
      "text/plain": [
       "'This is Base 2'"
      ]
     },
     "execution_count": 66,
     "metadata": {},
     "output_type": "execute_result"
    }
   ],
   "source": [
    "Hybrid_A.test_2()"
   ]
  },
  {
   "cell_type": "code",
   "execution_count": 67,
   "id": "08e6b04e-902e-4276-8802-4259a091af0a",
   "metadata": {},
   "outputs": [
    {
     "data": {
      "text/plain": [
       "'Derived_1 is inherited from Base1 and Base2'"
      ]
     },
     "execution_count": 67,
     "metadata": {},
     "output_type": "execute_result"
    }
   ],
   "source": [
    "Hybrid_A.test_D_1()"
   ]
  },
  {
   "cell_type": "code",
   "execution_count": 68,
   "id": "bc19fe09-75c6-41f2-8dd8-8171b55f5518",
   "metadata": {},
   "outputs": [],
   "source": [
    "Hybrid_B = Derived_2()"
   ]
  },
  {
   "cell_type": "code",
   "execution_count": 69,
   "id": "b1d65b12-5e87-4a97-9d31-7bf3745394fb",
   "metadata": {},
   "outputs": [
    {
     "data": {
      "text/plain": [
       "'This is Base 3'"
      ]
     },
     "execution_count": 69,
     "metadata": {},
     "output_type": "execute_result"
    }
   ],
   "source": [
    "Hybrid_B.test_3()"
   ]
  },
  {
   "cell_type": "code",
   "execution_count": 70,
   "id": "98a4843c-cad6-444a-9c1b-158e3bfee7ea",
   "metadata": {},
   "outputs": [
    {
     "data": {
      "text/plain": [
       "'Derived_2 is inherited from Base3'"
      ]
     },
     "execution_count": 70,
     "metadata": {},
     "output_type": "execute_result"
    }
   ],
   "source": [
    "Hybrid_B.test_D_2()"
   ]
  },
  {
   "cell_type": "code",
   "execution_count": null,
   "id": "f097cee8-d5e2-4c2e-855f-622cd32d8a23",
   "metadata": {},
   "outputs": [],
   "source": []
  }
 ],
 "metadata": {
  "kernelspec": {
   "display_name": "Python 3 (ipykernel)",
   "language": "python",
   "name": "python3"
  },
  "language_info": {
   "codemirror_mode": {
    "name": "ipython",
    "version": 3
   },
   "file_extension": ".py",
   "mimetype": "text/x-python",
   "name": "python",
   "nbconvert_exporter": "python",
   "pygments_lexer": "ipython3",
   "version": "3.10.8"
  }
 },
 "nbformat": 4,
 "nbformat_minor": 5
}
