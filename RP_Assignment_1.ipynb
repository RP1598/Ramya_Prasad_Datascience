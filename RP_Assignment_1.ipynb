{
 "cells": [
  {
   "cell_type": "markdown",
   "id": "c9908c60-c54c-4ad5-92fe-3ac95000fa18",
   "metadata": {},
   "source": [
    "Q1. Create one variable containing following type of data:\n",
    "(i) string\n",
    "(ii) list\n",
    "(iii) float\n",
    "(iv) tuple"
   ]
  },
  {
   "cell_type": "code",
   "execution_count": 1,
   "id": "75e1f63e-2d02-446c-8c8c-b3f76cec271e",
   "metadata": {},
   "outputs": [],
   "source": [
    "#(i) string\n",
    "a='Ramya'"
   ]
  },
  {
   "cell_type": "code",
   "execution_count": 2,
   "id": "960d1e7b-5559-4197-83b8-25d36a33c532",
   "metadata": {},
   "outputs": [
    {
     "data": {
      "text/plain": [
       "str"
      ]
     },
     "execution_count": 2,
     "metadata": {},
     "output_type": "execute_result"
    }
   ],
   "source": [
    "type(a)"
   ]
  },
  {
   "cell_type": "code",
   "execution_count": 3,
   "id": "3856809c-6718-4852-95f1-cd53572ece03",
   "metadata": {},
   "outputs": [],
   "source": [
    "#(ii) list\n",
    "b=[2,5,9,34.55,\"Ramya\",\"pwskills\",True,6+8j]"
   ]
  },
  {
   "cell_type": "code",
   "execution_count": 4,
   "id": "cf8729ac-0f2c-4b02-be1c-dc426b11e742",
   "metadata": {},
   "outputs": [
    {
     "data": {
      "text/plain": [
       "list"
      ]
     },
     "execution_count": 4,
     "metadata": {},
     "output_type": "execute_result"
    }
   ],
   "source": [
    "type(b)"
   ]
  },
  {
   "cell_type": "code",
   "execution_count": 5,
   "id": "3e483045-ce8e-43f7-81ee-fb16b86858a2",
   "metadata": {},
   "outputs": [],
   "source": [
    "#(iii) float\n",
    "c=15.0999"
   ]
  },
  {
   "cell_type": "code",
   "execution_count": 6,
   "id": "ed82297b-f353-46b5-85f6-e5f87eed4daf",
   "metadata": {},
   "outputs": [
    {
     "data": {
      "text/plain": [
       "float"
      ]
     },
     "execution_count": 6,
     "metadata": {},
     "output_type": "execute_result"
    }
   ],
   "source": [
    "type(c)"
   ]
  },
  {
   "cell_type": "code",
   "execution_count": 9,
   "id": "591d2efb-067d-4644-89b2-9cf88a18ffaf",
   "metadata": {},
   "outputs": [],
   "source": [
    "#(iv) tuple\n",
    "d=(\"Ram\",\"Siya\",\"Jay\")"
   ]
  },
  {
   "cell_type": "code",
   "execution_count": 10,
   "id": "8e204a64-b009-4daa-b491-3d9d47ae683a",
   "metadata": {},
   "outputs": [
    {
     "data": {
      "text/plain": [
       "tuple"
      ]
     },
     "execution_count": 10,
     "metadata": {},
     "output_type": "execute_result"
    }
   ],
   "source": [
    "type(d)"
   ]
  },
  {
   "cell_type": "markdown",
   "id": "d8cee212-69e9-40b4-b901-e39ac0e866b3",
   "metadata": {},
   "source": [
    "Q2. Given are some following variables containing data:\n",
    "(i) var1 = ‘ ‘\n",
    "(ii) var2 = ‘[ DS , ML , Python]’\n",
    "(iii) var3 = [ ‘DS’ , ’ML’ , ‘Python’ ]\n",
    "(iv) var4 = 1.\n",
    "\n",
    "What will be the data type of the above given variable."
   ]
  },
  {
   "cell_type": "code",
   "execution_count": 11,
   "id": "4ab3f17b-b5f8-4a0e-b7d3-365774321afb",
   "metadata": {},
   "outputs": [],
   "source": [
    "#(i)\n",
    "var1=' '"
   ]
  },
  {
   "cell_type": "code",
   "execution_count": 12,
   "id": "cb84f0cb-600a-4f9f-ae2b-2af913e4fd58",
   "metadata": {},
   "outputs": [
    {
     "data": {
      "text/plain": [
       "str"
      ]
     },
     "execution_count": 12,
     "metadata": {},
     "output_type": "execute_result"
    }
   ],
   "source": [
    "type(var1)"
   ]
  },
  {
   "cell_type": "code",
   "execution_count": 13,
   "id": "7248a585-9dfe-4952-9a42-24d7152531f2",
   "metadata": {},
   "outputs": [],
   "source": [
    "#(ii)\n",
    "var2='[DS,ML,Python,]'"
   ]
  },
  {
   "cell_type": "code",
   "execution_count": 14,
   "id": "9edffeb5-9153-4bf3-a1d3-360ed8eeaf95",
   "metadata": {},
   "outputs": [
    {
     "data": {
      "text/plain": [
       "str"
      ]
     },
     "execution_count": 14,
     "metadata": {},
     "output_type": "execute_result"
    }
   ],
   "source": [
    "type(var2)"
   ]
  },
  {
   "cell_type": "code",
   "execution_count": 16,
   "id": "ec6eb84d-d098-459c-aff2-85845d99db91",
   "metadata": {},
   "outputs": [],
   "source": [
    "#(iii)\n",
    "var3 = ['DS','ML' ,'Python']"
   ]
  },
  {
   "cell_type": "code",
   "execution_count": 17,
   "id": "65befc4f-cd5c-4cc9-9d71-839857790012",
   "metadata": {},
   "outputs": [
    {
     "data": {
      "text/plain": [
       "list"
      ]
     },
     "execution_count": 17,
     "metadata": {},
     "output_type": "execute_result"
    }
   ],
   "source": [
    "type(var3)"
   ]
  },
  {
   "cell_type": "code",
   "execution_count": 18,
   "id": "2c92017a-1beb-4ced-8d18-b1f46616a8a2",
   "metadata": {},
   "outputs": [],
   "source": [
    "#(iv)\n",
    "var4=1."
   ]
  },
  {
   "cell_type": "code",
   "execution_count": 19,
   "id": "68f8d236-9bdb-4f36-9590-aace3928cdf4",
   "metadata": {},
   "outputs": [
    {
     "data": {
      "text/plain": [
       "float"
      ]
     },
     "execution_count": 19,
     "metadata": {},
     "output_type": "execute_result"
    }
   ],
   "source": [
    "type(var4)"
   ]
  },
  {
   "cell_type": "markdown",
   "id": "3c6c63ca-651e-4422-974c-46e5f01c5ec4",
   "metadata": {},
   "source": [
    "Q3. Explain the use of the following operators using an example:\n",
    "(i) /\n",
    "(ii) %\n",
    "(iii) //\n",
    "(iv) **"
   ]
  },
  {
   "cell_type": "code",
   "execution_count": 20,
   "id": "2558f0c4-fbfa-46c7-b2ec-2d01b4b311aa",
   "metadata": {},
   "outputs": [
    {
     "data": {
      "text/plain": [
       "2.0"
      ]
     },
     "execution_count": 20,
     "metadata": {},
     "output_type": "execute_result"
    }
   ],
   "source": [
    "#Arthmetic function - / it gives the quotient with decimal values.\n",
    "20/10"
   ]
  },
  {
   "cell_type": "code",
   "execution_count": 21,
   "id": "76aef43d-328c-400e-a0fd-1595c5f367a6",
   "metadata": {},
   "outputs": [
    {
     "data": {
      "text/plain": [
       "0"
      ]
     },
     "execution_count": 21,
     "metadata": {},
     "output_type": "execute_result"
    }
   ],
   "source": [
    "#Arthmetic function - % it gives the reminder.\n",
    "30%10"
   ]
  },
  {
   "cell_type": "code",
   "execution_count": 22,
   "id": "771fbf44-a4fa-4482-a5fe-0137f0c60ee1",
   "metadata": {},
   "outputs": [
    {
     "data": {
      "text/plain": [
       "8"
      ]
     },
     "execution_count": 22,
     "metadata": {},
     "output_type": "execute_result"
    }
   ],
   "source": [
    "#Arthmetic function - // it gives the quotient without decimal places. Only floor value\n",
    "24//3"
   ]
  },
  {
   "cell_type": "code",
   "execution_count": 23,
   "id": "7981710b-be82-4e3b-ab25-acdafb6dcc2e",
   "metadata": {},
   "outputs": [
    {
     "data": {
      "text/plain": [
       "27"
      ]
     },
     "execution_count": 23,
     "metadata": {},
     "output_type": "execute_result"
    }
   ],
   "source": [
    "#Arthmetic function - ** it gives the power of a value. 3 to the power 3 is 27\n",
    "3**3"
   ]
  },
  {
   "cell_type": "markdown",
   "id": "4d7bcb72-d0ab-4322-bf7c-c6c18852c7eb",
   "metadata": {},
   "source": [
    "##### Q4. Create a list of length 10 of your choice containing multiple types of data. Using for loop print the element and its data type."
   ]
  },
  {
   "cell_type": "code",
   "execution_count": null,
   "id": "8f3ea139-cdf4-4136-8f63-92e2ed78fc76",
   "metadata": {},
   "outputs": [],
   "source": [
    "l=[2,4,6,8,15.99,3.756,\"Ramya\",\"PWSkills\",True,4+8j]"
   ]
  },
  {
   "cell_type": "code",
   "execution_count": 45,
   "id": "a4ebf50d-d3c2-4be9-a01d-04184f589df7",
   "metadata": {},
   "outputs": [
    {
     "data": {
      "text/plain": [
       "list"
      ]
     },
     "execution_count": 45,
     "metadata": {},
     "output_type": "execute_result"
    }
   ],
   "source": [
    "type(l)"
   ]
  },
  {
   "cell_type": "code",
   "execution_count": 29,
   "id": "1b40e5da-d102-4a47-8381-1f0ad1d1f42e",
   "metadata": {},
   "outputs": [
    {
     "name": "stdout",
     "output_type": "stream",
     "text": [
      "The datatype of 2 is <class 'int'>\n",
      "The datatype of 4 is <class 'int'>\n",
      "The datatype of 6 is <class 'int'>\n",
      "The datatype of 8 is <class 'int'>\n",
      "The datatype of 15.99 is <class 'float'>\n",
      "The datatype of 3.756 is <class 'float'>\n",
      "The datatype of Ramya is <class 'str'>\n",
      "The datatype of PWSkills is <class 'str'>\n",
      "The datatype of True is <class 'bool'>\n",
      "The datatype of (4+8j) is <class 'complex'>\n"
     ]
    }
   ],
   "source": [
    "for i in l:\n",
    "    print('The datatype of',i,'is',type(i))"
   ]
  },
  {
   "cell_type": "markdown",
   "id": "8d51a374-00c0-416e-8dfa-ea6bee7a81af",
   "metadata": {
    "tags": []
   },
   "source": [
    "##### Q5. Using a while loop, verify if the number A is purely divisible by number B and if so then how many times it can be divisible."
   ]
  },
  {
   "cell_type": "code",
   "execution_count": 3,
   "id": "c222bfec-0145-4cd0-893d-9e867bdcca27",
   "metadata": {},
   "outputs": [
    {
     "name": "stdin",
     "output_type": "stream",
     "text": [
      " 100\n",
      " 20\n"
     ]
    },
    {
     "name": "stdout",
     "output_type": "stream",
     "text": [
      "The A and B are purely divisble by 5.0 times.\n"
     ]
    }
   ],
   "source": [
    "a = int(input())  # 100\n",
    "b = int(input())  # 20\n",
    "\n",
    "while a%b == 0:\n",
    "    c=a/b\n",
    "    print(\"The A and B are purely divisble by\",c,\"times.\")\n",
    "    break"
   ]
  },
  {
   "cell_type": "markdown",
   "id": "ef192612-03f5-4621-a301-3ec71d249b77",
   "metadata": {},
   "source": [
    "##### Q6. Create a list containing 25 int type data. Using for loop and if-else condition print if the element is divisible by 3 or not."
   ]
  },
  {
   "cell_type": "code",
   "execution_count": 31,
   "id": "278ef8ff-ba68-406a-ac3f-b0dad58c6152",
   "metadata": {},
   "outputs": [],
   "source": [
    "r = range(25)"
   ]
  },
  {
   "cell_type": "code",
   "execution_count": 32,
   "id": "7c0b8672-b32a-4988-bce1-e386742895f8",
   "metadata": {},
   "outputs": [
    {
     "data": {
      "text/plain": [
       "range(0, 25)"
      ]
     },
     "execution_count": 32,
     "metadata": {},
     "output_type": "execute_result"
    }
   ],
   "source": [
    "r"
   ]
  },
  {
   "cell_type": "code",
   "execution_count": 33,
   "id": "fbc9e51b-e656-4ae7-a1fb-3c89f3480759",
   "metadata": {},
   "outputs": [
    {
     "name": "stdout",
     "output_type": "stream",
     "text": [
      "0\n",
      "1 is not divisible by 3\n",
      "2 is not divisible by 3\n",
      "3\n",
      "4 is not divisible by 3\n",
      "5 is not divisible by 3\n",
      "6\n",
      "7 is not divisible by 3\n",
      "8 is not divisible by 3\n",
      "9\n",
      "10 is not divisible by 3\n",
      "11 is not divisible by 3\n",
      "12\n",
      "13 is not divisible by 3\n",
      "14 is not divisible by 3\n",
      "15\n",
      "16 is not divisible by 3\n",
      "17 is not divisible by 3\n",
      "18\n",
      "19 is not divisible by 3\n",
      "20 is not divisible by 3\n",
      "21\n",
      "22 is not divisible by 3\n",
      "23 is not divisible by 3\n",
      "24\n"
     ]
    }
   ],
   "source": [
    "for i in r :\n",
    "    if i%3 == 0 :\n",
    "        print(i)\n",
    "    else : \n",
    "        print(i,\"is not divisible by 3\")"
   ]
  },
  {
   "cell_type": "markdown",
   "id": "b096609d-80b8-4274-98f4-5e9c5a5452c6",
   "metadata": {},
   "source": [
    "##### Q7. What do you understand about mutable and immutable data types? Give examples for both showing this property."
   ]
  },
  {
   "cell_type": "code",
   "execution_count": 37,
   "id": "d72565ae-0375-42ad-8003-c866d3af5fb9",
   "metadata": {},
   "outputs": [],
   "source": [
    "l1=[2,5,10,7.777,\"RP\",\"AK\",False,2+5j]"
   ]
  },
  {
   "cell_type": "code",
   "execution_count": 39,
   "id": "5109010f-7afe-4fb9-b4fe-011cb3acd7d6",
   "metadata": {},
   "outputs": [],
   "source": [
    "l1[2]='Pwskills'"
   ]
  },
  {
   "cell_type": "code",
   "execution_count": 41,
   "id": "a8930397-95ab-4736-a80c-d5fb4a85c135",
   "metadata": {},
   "outputs": [
    {
     "data": {
      "text/plain": [
       "[2, 5, 'Pwskills', 7.777, 'RP', 'AK', False, (2+5j)]"
      ]
     },
     "execution_count": 41,
     "metadata": {},
     "output_type": "execute_result"
    }
   ],
   "source": [
    "#Mutability is the ability to change or replace the value of an index in variable.\n",
    "l1"
   ]
  },
  {
   "cell_type": "code",
   "execution_count": 42,
   "id": "6f6287a9-61c5-49f5-9557-13573a1f24a4",
   "metadata": {},
   "outputs": [],
   "source": [
    "l2=\"Ramya Prasad\""
   ]
  },
  {
   "cell_type": "code",
   "execution_count": 44,
   "id": "598dc35e-c52f-46b4-91c4-08bfb07890f0",
   "metadata": {},
   "outputs": [
    {
     "ename": "TypeError",
     "evalue": "'str' object does not support item assignment",
     "output_type": "error",
     "traceback": [
      "\u001b[0;31m---------------------------------------------------------------------------\u001b[0m",
      "\u001b[0;31mTypeError\u001b[0m                                 Traceback (most recent call last)",
      "Cell \u001b[0;32mIn[44], line 1\u001b[0m\n\u001b[0;32m----> 1\u001b[0m \u001b[43ml2\u001b[49m\u001b[43m[\u001b[49m\u001b[38;5;241;43m3\u001b[39;49m\u001b[43m]\u001b[49m\u001b[38;5;241m=\u001b[39m\u001b[38;5;124m'\u001b[39m\u001b[38;5;124mv\u001b[39m\u001b[38;5;124m'\u001b[39m\n",
      "\u001b[0;31mTypeError\u001b[0m: 'str' object does not support item assignment"
     ]
    }
   ],
   "source": [
    "l2[3]='v'"
   ]
  },
  {
   "cell_type": "markdown",
   "id": "c199040d-6a47-491b-aff7-998e3a9eb7c9",
   "metadata": {},
   "source": [
    "##### Immutability is when we do not have the ability to rchange or replace the value of an index in a variable. \n",
    "\n",
    "##### For example: String datatype is immutable whereas list is mutable. "
   ]
  },
  {
   "cell_type": "code",
   "execution_count": null,
   "id": "a9edb5fa-79c7-43de-883c-d419c9736867",
   "metadata": {},
   "outputs": [],
   "source": []
  }
 ],
 "metadata": {
  "kernelspec": {
   "display_name": "Python 3 (ipykernel)",
   "language": "python",
   "name": "python3"
  },
  "language_info": {
   "codemirror_mode": {
    "name": "ipython",
    "version": 3
   },
   "file_extension": ".py",
   "mimetype": "text/x-python",
   "name": "python",
   "nbconvert_exporter": "python",
   "pygments_lexer": "ipython3",
   "version": "3.10.8"
  }
 },
 "nbformat": 4,
 "nbformat_minor": 5
}
