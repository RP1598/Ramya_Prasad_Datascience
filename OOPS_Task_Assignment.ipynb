{
 "cells": [
  {
   "cell_type": "markdown",
   "id": "25983af4-e4c6-425c-ba5c-851058b2f017",
   "metadata": {},
   "source": [
    "##### Q1. Create a vehicle class with an init method having instance variables as name_of_vehicle, max_speed and average_of_vehicle."
   ]
  },
  {
   "cell_type": "code",
   "execution_count": 2,
   "id": "6e1a7222-a8a9-43fd-ba96-8bff93f421eb",
   "metadata": {},
   "outputs": [],
   "source": [
    "class Vehicle:\n",
    "    def __init__(self,name_of_vehicle,max_speed,average_of_vehicle):\n",
    "        self.name_of_vehicle = name_of_vehicle\n",
    "        self.max_speed = max_speed\n",
    "        self.average_of_vehicle = average_of_vehicle\n",
    "    \n",
    "    def vehicle_details(self):\n",
    "        return self.name_of_vehicle, self.max_speed, self.average_of_vehicle\n",
    "    "
   ]
  },
  {
   "cell_type": "code",
   "execution_count": 17,
   "id": "a7672e1f-fbf0-44f1-a833-173b46c81365",
   "metadata": {},
   "outputs": [],
   "source": [
    "V_obj = Vehicle(\"Honda\",35,18)"
   ]
  },
  {
   "cell_type": "code",
   "execution_count": 18,
   "id": "d8f9b15c-d839-40cc-9eb7-61cf1f537e6f",
   "metadata": {},
   "outputs": [
    {
     "data": {
      "text/plain": [
       "'Honda'"
      ]
     },
     "execution_count": 18,
     "metadata": {},
     "output_type": "execute_result"
    }
   ],
   "source": [
    "V_obj.name_of_vehicle"
   ]
  },
  {
   "cell_type": "code",
   "execution_count": 19,
   "id": "271934ec-38c8-47dd-a961-39f1b4af7d87",
   "metadata": {},
   "outputs": [
    {
     "data": {
      "text/plain": [
       "('Honda', 35, 18)"
      ]
     },
     "execution_count": 19,
     "metadata": {},
     "output_type": "execute_result"
    }
   ],
   "source": [
    "V_obj.vehicle_details()"
   ]
  },
  {
   "cell_type": "markdown",
   "id": "611586fd-2e05-4512-b71c-b385ff3d726e",
   "metadata": {},
   "source": [
    "##### Q2. Create a child class car from the vehicle class created in Que 1, which will inherit the vehicle class. Create a method named seating_capacity which takes capacity as an argument and returns the name of the vehicle and its seating capacity."
   ]
  },
  {
   "cell_type": "code",
   "execution_count": 20,
   "id": "de9b45b2-a83c-4390-8f91-5ffda7c1ae7c",
   "metadata": {},
   "outputs": [],
   "source": [
    "class Car(Vehicle):\n",
    "    def seating_capacity(self,Capacity):\n",
    "        return self.name_of_vehicle,Capacity"
   ]
  },
  {
   "cell_type": "code",
   "execution_count": 24,
   "id": "ea782633-d35b-4f90-b922-d4dac67bcb34",
   "metadata": {},
   "outputs": [],
   "source": [
    "Car_obj = Car(\"Tesla\",45,20)"
   ]
  },
  {
   "cell_type": "code",
   "execution_count": 27,
   "id": "33a67a67-7e4d-4e83-9927-2f11ee3cbd82",
   "metadata": {},
   "outputs": [
    {
     "data": {
      "text/plain": [
       "('Tesla', 4)"
      ]
     },
     "execution_count": 27,
     "metadata": {},
     "output_type": "execute_result"
    }
   ],
   "source": [
    "Car_obj.seating_capacity(4)"
   ]
  },
  {
   "cell_type": "code",
   "execution_count": 28,
   "id": "665e6ab3-973f-4d40-8a00-696d189ae397",
   "metadata": {},
   "outputs": [
    {
     "data": {
      "text/plain": [
       "('Tesla', 45, 20)"
      ]
     },
     "execution_count": 28,
     "metadata": {},
     "output_type": "execute_result"
    }
   ],
   "source": [
    "Car_obj.vehicle_details()"
   ]
  },
  {
   "cell_type": "markdown",
   "id": "4e45de8d-2ce4-4a3b-8a57-c12957502e4f",
   "metadata": {},
   "source": [
    "##### Q3. What is multiple inheritance? Write a python code to demonstrate multiple inheritance."
   ]
  },
  {
   "cell_type": "markdown",
   "id": "87bf1a3b-11d4-4d6a-b9f1-5f189f85dcc9",
   "metadata": {},
   "source": [
    "Ans: When a child class inherits from multiple parent classes, it is called Multiple inheritance. "
   ]
  },
  {
   "cell_type": "code",
   "execution_count": 30,
   "id": "165e0e69-df7d-4073-a19e-99990153e0fa",
   "metadata": {},
   "outputs": [],
   "source": [
    "#Example of Multiple Inheritance:\n",
    "\n",
    "class Parent1:\n",
    "    def test1(self):\n",
    "        return \"This is the first parent\"\n",
    "\n",
    "class Parent2:\n",
    "    def test2(self):\n",
    "        return \"This is the second parent\"\n",
    "\n",
    "class Child(Parent1,Parent2):\n",
    "    def test_child(self):\n",
    "        return \"This is the child class of Parent1 and Parent2\""
   ]
  },
  {
   "cell_type": "code",
   "execution_count": 31,
   "id": "d478fc86-69e0-476f-9887-89e7e100a9fb",
   "metadata": {},
   "outputs": [],
   "source": [
    "Multiple_obj = Child()"
   ]
  },
  {
   "cell_type": "code",
   "execution_count": 32,
   "id": "acc1b680-c2b4-4703-b0b9-834e06d90731",
   "metadata": {},
   "outputs": [
    {
     "data": {
      "text/plain": [
       "'This is the first parent'"
      ]
     },
     "execution_count": 32,
     "metadata": {},
     "output_type": "execute_result"
    }
   ],
   "source": [
    "Multiple_obj.test1()"
   ]
  },
  {
   "cell_type": "code",
   "execution_count": 33,
   "id": "e521e480-7738-48b6-87ce-fd9881a56432",
   "metadata": {},
   "outputs": [
    {
     "data": {
      "text/plain": [
       "'This is the second parent'"
      ]
     },
     "execution_count": 33,
     "metadata": {},
     "output_type": "execute_result"
    }
   ],
   "source": [
    "Multiple_obj.test2()"
   ]
  },
  {
   "cell_type": "code",
   "execution_count": 34,
   "id": "14968070-515d-4cbc-927c-2e9dc3ffe857",
   "metadata": {},
   "outputs": [
    {
     "data": {
      "text/plain": [
       "'This is the child class of Parent1 and Parent2'"
      ]
     },
     "execution_count": 34,
     "metadata": {},
     "output_type": "execute_result"
    }
   ],
   "source": [
    "Multiple_obj.test_child()"
   ]
  },
  {
   "cell_type": "markdown",
   "id": "cae90ea0-8011-4b3f-a31a-7203f6393b2b",
   "metadata": {},
   "source": [
    "##### Q4. What are getter and setter in python? Create a class and create a getter and a setter method in this class."
   ]
  },
  {
   "cell_type": "markdown",
   "id": "c63a7f4b-5fff-4324-9b6e-8bd8bb336ffe",
   "metadata": {},
   "source": [
    "Ans: Getter and setter is used to access and modify the Private variable inside the class. It helps in Data encapsulation. We can access the private variable using the Property decorator which basically consists of getter, setter and deleter. \n",
    "\n",
    "Getter: Getters are the methods that are used in Object-Oriented Programming (OOPS) to access a class's private attributes.\n",
    "\n",
    "Setter: Setter is a method that is used to set the private attribute's value."
   ]
  },
  {
   "cell_type": "code",
   "execution_count": 1,
   "id": "9aa77b8e-7dbf-4bc2-ba00-a1ce476724b5",
   "metadata": {},
   "outputs": [],
   "source": [
    "#Example for getter and setter \n",
    "\n",
    "class pancard_details:\n",
    "    \n",
    "    def __init__(self,name,age,pan_no):\n",
    "        self.name = name\n",
    "        self.age = age\n",
    "        self.__pan_no = pan_no  ## __pan_no ==> private varible\n",
    "        \n",
    "    @property  \n",
    "    def access_pan_no(self):\n",
    "        return self.__pan_no\n",
    "        \n",
    "    @access_pan_no.setter      ## Giving access to modify the private varible\n",
    "    def pan_no_set(self,pan):\n",
    "        if len(pan)==10:       ## Modify if length of pan_no is 10 char else remain the same\n",
    "            self.__pan_no =  pan\n",
    "        else:\n",
    "            self.__pan_no = self.__pan_no\n",
    "            \n",
    "    @access_pan_no.deleter\n",
    "    def pan_no_delete(self):\n",
    "        del self.__pan_no\n",
    "            "
   ]
  },
  {
   "cell_type": "code",
   "execution_count": 3,
   "id": "2ba3a89d-8536-4dc7-99c9-d72f7e86f385",
   "metadata": {},
   "outputs": [],
   "source": [
    "Pan_obj = pancard_details(\"Kiara\",26,\"ARP15XY0903\")"
   ]
  },
  {
   "cell_type": "code",
   "execution_count": 4,
   "id": "ca37b71b-11ab-45e0-ad5c-0b9dd2366ddc",
   "metadata": {},
   "outputs": [
    {
     "data": {
      "text/plain": [
       "'Kiara'"
      ]
     },
     "execution_count": 4,
     "metadata": {},
     "output_type": "execute_result"
    }
   ],
   "source": [
    "Pan_obj.name"
   ]
  },
  {
   "cell_type": "code",
   "execution_count": 5,
   "id": "ab6ede33-967c-4388-89b9-39022b2dd7c9",
   "metadata": {},
   "outputs": [
    {
     "data": {
      "text/plain": [
       "'ARP15XY0903'"
      ]
     },
     "execution_count": 5,
     "metadata": {},
     "output_type": "execute_result"
    }
   ],
   "source": [
    "Pan_obj.access_pan_no"
   ]
  },
  {
   "cell_type": "code",
   "execution_count": 6,
   "id": "38f51679-6cd8-47d3-a681-0ef51d5bf2f8",
   "metadata": {},
   "outputs": [],
   "source": [
    "Pan_obj.pan_no_set = \"AZ11R999\""
   ]
  },
  {
   "cell_type": "code",
   "execution_count": 8,
   "id": "b9d7aba9-57ad-4eae-9acf-03df2fcd5a0a",
   "metadata": {},
   "outputs": [
    {
     "data": {
      "text/plain": [
       "'ARP15XY0903'"
      ]
     },
     "execution_count": 8,
     "metadata": {},
     "output_type": "execute_result"
    }
   ],
   "source": [
    "Pan_obj.access_pan_no ### Pan_no has not changed because the len < 10."
   ]
  },
  {
   "cell_type": "code",
   "execution_count": 9,
   "id": "df6b11ff-dd9a-49a6-9ecc-010e7d39eece",
   "metadata": {},
   "outputs": [],
   "source": [
    "Pan_obj.pan_no_set = \"CAT15RS100\""
   ]
  },
  {
   "cell_type": "code",
   "execution_count": 10,
   "id": "335734cb-398f-454c-8799-01ca343c4a86",
   "metadata": {},
   "outputs": [
    {
     "data": {
      "text/plain": [
       "'CAT15RS100'"
      ]
     },
     "execution_count": 10,
     "metadata": {},
     "output_type": "execute_result"
    }
   ],
   "source": [
    "Pan_obj.access_pan_no"
   ]
  },
  {
   "cell_type": "code",
   "execution_count": 13,
   "id": "dad956e0-16d7-4eea-aef5-8e31d01a1d66",
   "metadata": {},
   "outputs": [],
   "source": [
    "del Pan_obj.pan_no_delete"
   ]
  },
  {
   "cell_type": "code",
   "execution_count": 14,
   "id": "fe4039c6-9332-4690-a627-b0055829354f",
   "metadata": {},
   "outputs": [
    {
     "ename": "AttributeError",
     "evalue": "'pancard_details' object has no attribute '_pancard_details__pan_no'",
     "output_type": "error",
     "traceback": [
      "\u001b[0;31m---------------------------------------------------------------------------\u001b[0m",
      "\u001b[0;31mAttributeError\u001b[0m                            Traceback (most recent call last)",
      "Cell \u001b[0;32mIn[14], line 1\u001b[0m\n\u001b[0;32m----> 1\u001b[0m \u001b[43mPan_obj\u001b[49m\u001b[38;5;241;43m.\u001b[39;49m\u001b[43maccess_pan_no\u001b[49m\n",
      "Cell \u001b[0;32mIn[1], line 12\u001b[0m, in \u001b[0;36mpancard_details.access_pan_no\u001b[0;34m(self)\u001b[0m\n\u001b[1;32m     10\u001b[0m \u001b[38;5;129m@property\u001b[39m  \n\u001b[1;32m     11\u001b[0m \u001b[38;5;28;01mdef\u001b[39;00m \u001b[38;5;21maccess_pan_no\u001b[39m(\u001b[38;5;28mself\u001b[39m):\n\u001b[0;32m---> 12\u001b[0m     \u001b[38;5;28;01mreturn\u001b[39;00m \u001b[38;5;28;43mself\u001b[39;49m\u001b[38;5;241;43m.\u001b[39;49m\u001b[43m__pan_no\u001b[49m\n",
      "\u001b[0;31mAttributeError\u001b[0m: 'pancard_details' object has no attribute '_pancard_details__pan_no'"
     ]
    }
   ],
   "source": [
    "Pan_obj.access_pan_no"
   ]
  },
  {
   "cell_type": "markdown",
   "id": "e27157ca-6571-456f-91b1-3b0ab3005ed4",
   "metadata": {},
   "source": [
    "##### Q5. What is method overriding in python? Write a python code to demonstrate method overriding."
   ]
  },
  {
   "cell_type": "markdown",
   "id": "7a7665ec-b2c4-4f63-8ff3-85531c9ebcd2",
   "metadata": {},
   "source": [
    "Ans: When a method with identical names and arguments is used in both base and derived class, the derived class method overrides the method in the base class. Overriding a method in the same class is not allowed. So, you need to do that in the child class by implementing the Inheritance concept. If you want to override the Parent Class method, create a function in the Child with the same name and number of parameters. This is called function overriding in Python.\n",
    "\n",
    "If an object of the parent class is used to invoke the method then the execution will be according to Parent class. If an object of the derived class is used to invoke the method, the execution will be according to the features mentioned in the derived class."
   ]
  },
  {
   "cell_type": "code",
   "execution_count": 1,
   "id": "2e7e77cf-e64f-4e84-9fbc-aeb27dc973d9",
   "metadata": {},
   "outputs": [],
   "source": [
    "class Parent(): \n",
    "    def __init__(self): # Constructor \n",
    "        self.value = \"Inside Parent\"\n",
    "    \n",
    "    def show(self): # Parent show method \n",
    "        print(self.value) \n",
    "          \n",
    "class Child(Parent): \n",
    "    def __init__(self): \n",
    "        self.value = \"Inside Child\"\n",
    "    \n",
    "    def show(self): # Child show method\n",
    "        print(self.value) \n"
   ]
  },
  {
   "cell_type": "code",
   "execution_count": 2,
   "id": "4c87b675-5d83-4fb9-aeb4-dca4f680752a",
   "metadata": {},
   "outputs": [],
   "source": [
    "obj1 = Parent() \n",
    "obj2 = Child() "
   ]
  },
  {
   "cell_type": "code",
   "execution_count": 3,
   "id": "45946fc9-ef87-4581-8808-cb8edcb791ae",
   "metadata": {},
   "outputs": [
    {
     "name": "stdout",
     "output_type": "stream",
     "text": [
      "Inside Parent\n"
     ]
    }
   ],
   "source": [
    "obj1.show()"
   ]
  },
  {
   "cell_type": "code",
   "execution_count": 4,
   "id": "2a319439-cf50-4223-a922-9b70dcf5138b",
   "metadata": {},
   "outputs": [
    {
     "name": "stdout",
     "output_type": "stream",
     "text": [
      "Inside Child\n"
     ]
    }
   ],
   "source": [
    "obj2.show() "
   ]
  },
  {
   "cell_type": "code",
   "execution_count": null,
   "id": "eadf56fa-734d-4e3b-b762-60e78b66e457",
   "metadata": {},
   "outputs": [],
   "source": []
  }
 ],
 "metadata": {
  "kernelspec": {
   "display_name": "Python 3 (ipykernel)",
   "language": "python",
   "name": "python3"
  },
  "language_info": {
   "codemirror_mode": {
    "name": "ipython",
    "version": 3
   },
   "file_extension": ".py",
   "mimetype": "text/x-python",
   "name": "python",
   "nbconvert_exporter": "python",
   "pygments_lexer": "ipython3",
   "version": "3.10.8"
  }
 },
 "nbformat": 4,
 "nbformat_minor": 5
}
